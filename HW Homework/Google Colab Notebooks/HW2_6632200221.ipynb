{
  "nbformat": 4,
  "nbformat_minor": 0,
  "metadata": {
    "colab": {
      "provenance": []
    },
    "kernelspec": {
      "name": "python3",
      "display_name": "Python 3"
    },
    "language_info": {
      "name": "python"
    }
  },
  "cells": [
    {
      "cell_type": "markdown",
      "source": [
        "# การบ้านครั้งที่ 2: Genetics Analysis\n",
        "\n",
        "\n"
      ],
      "metadata": {
        "id": "YTDQanrJ86Vh"
      }
    },
    {
      "cell_type": "markdown",
      "source": [
        "**จุดมุ่งหมายของการบ้าน**\n",
        "- เข้าใจและสามารถใช้งาน\n",
        "  - String และ List ขั้นพื้นฐาน\n",
        "  - If\n",
        "  - Loop\n",
        "\n"
      ],
      "metadata": {
        "id": "mXvbUjnTOV2Y"
      }
    },
    {
      "cell_type": "markdown",
      "source": [
        "\n",
        "\n",
        "##**เริ่มต้น**\n",
        "1. ให้ copy file ไปที่ Google Drive ของนิสิตโดยเลือกเมนู File->Save a copy in Drive\n",
        "2. ไปที่ไฟล์ที่ copy มาแล้วตั้งชื่อไฟล์เป็น HW2_XXXXXXXXXX.ipynb เมื่อ XXXXXXXXXX คือเลขประจำตัวนิสิต\n",
        "\n",
        "## <font color=red>สำคัญ: อ่านตรงนี้ด้วย\n",
        "## ข้อห้าม</font>\n",
        " - ห้าม import ใด ๆ\n",
        " - ห้ามใช้ Dict\n",
        " - ในฟังก์ชันต้องไม่ใช้ตัวแปรนอกฟังก์ชัน\n",
        " - ฟังก์ชันต้องไม่ print อะไรใด ๆ ทั้งสิ้น\n",
        " - ห้ามเปลี่ยนบรรทัด `def` ของฟังก์ชันที่ให้เขียน\n",
        " - ในกรณีที่ฟังก์ชันมีการคืนค่า ฟังก์ชันต้องคืนข้อมูลและประเภทข้อมูลตามที่กำหนดเท่านั้น\n",
        " - ฟังก์ชันต้องไม่เปลี่ยนแปลงข้อมูลภายในของพารามิเตอร์ที่ได้รับ\n",
        " - บรรทัดแรกของ code cell ที่เขียนต้องขึ้นต้นด้วย `# HW2_Genetics_Analysis` ตามที่ให้ไป ห้ามแก้ไขหรือเพิ่มอะไรเข้าไปก่อนหน้า\n",
        "\n",
        "- <font color=red>ส่อทุจริต</font> เช่น  \n",
        " - ส่งโปรแกรมที่ผู้ส่งไม่สามารถอธิบายได้ว่า ใช้หลักการและทำงานอย่างไร\n",
        "  - หรือ ส่งโปรแกรมที่คล้ายกับโปรแกรมของผู้อื่นมาก ๆ (ไม่ว่าจะเป็นผู้ให้หรือผู้รับ จะตั้งใจหรือไม่ก็ตาม)\n",
        "  - ฉะนั้น\n",
        "    - ให้แน่ใจว่า ไม่ดูโปรแกรมของคนอื่น\n",
        "    - ให้แน่ใจว่า ไม่ได้ให้คนอื่นดูโปรแกรมของตัวเอง\n",
        "\n",
        "- หากพบว่างานที่ส่งส่อทุจริต นิสิตจะได้ $0$ ใน<font color=red>การบ้านครั้งนี้ และการบ้านครั้งที่แล้ว</font>\n",
        "- จะตรวจให้คะแนน เมื่อ\n",
        " - แฟ้มที่ส่งครั้งหลังสุดใน MyCourseVille เป็นแฟ้มที่ตั้งชื่อตามที่กำหนด และเป็นแฟ้มที่ได้จากการ File->Download->Download .ipynb เท่านั้น (ไม่ใช่แฟ้ม .py แล้วมา rename เป็น .ipynb)\n",
        " - ฟังก์ชันที่เขียนส่งต้องอยู่ใน code cell ที่ให้มาเท่านั้น\n",
        " - ไม่ทำในสิ่งที่ห้ามทำในข้อห้าม\n",
        " - code cell ที่ให้เขียนสามารถทำงานได้ (ไม่มี error)\n",
        " - ให้แน่ใจว่า code ที่ส่งมา ไม่มี syntax error, indentation error หรืออื่น ๆ ที่ทำให้สั่งทำงาน code ไม่ได้ (ถ้ามี ก็ตรวจไม่ได้ ได้ 0)\n",
        "\n",
        "\n",
        "\n",
        "\n"
      ],
      "metadata": {
        "id": "DLvxhuA0NIzF"
      }
    },
    {
      "cell_type": "markdown",
      "source": [
        "##**การส่งงาน**\n"
      ],
      "metadata": {
        "id": "lgsq1C6oOkg_"
      }
    },
    {
      "cell_type": "markdown",
      "source": [
        "1. ส่งไฟล์ในรูปแบบ .ipynb ที่ได้จากการเลือกเมนู File->Download->Download .ipynb ของ Colab และส่งแฟ้ม ipynb นี้ใน MyCourseVille\n",
        "2. ตั้งชื่อไฟล์เป็น HW2_XXXXXXXXX.ipynb เมื่อ XXXXXXXXXX คือ เลขประจำตัวนิสิต\n",
        "3. ส่งแฟ้ม .ipynb กี่ครั้งก็ได้ แต่จะตรวจแฟ้ม .ipynb **แฟ้มล่าสุด ที่ส่งภายในกำหนด** เท่านั้น\n",
        "4. <font color=\"Teal\">**กำหนดส่ง คือ ก่อน 23:59 น. ของพุธที่ 7 กุมภาพันธ์ 2567**</font>"
      ],
      "metadata": {
        "id": "v7-Ib0uROq3n"
      }
    },
    {
      "cell_type": "markdown",
      "source": [
        "## **งานของคุณ**\n",
        "\n"
      ],
      "metadata": {
        "id": "WqmBa1SpORpR"
      }
    },
    {
      "cell_type": "markdown",
      "source": [
        "**คำแนะนำ**\n",
        "- ถึงแม้โจทย์จะเกี่ยวข้องกับชีวเคมีแต่ถ้าอ่านดีๆ โค้ดที่ต้องเขียนเป็นเพียงแค่การจัดการ String ขั้นพื้นฐาน\n",
        "- อ่านโจทย์ให้ละเอียดก่อนลงมือทำ ถึงแม้คำอธิบายจะยาว แต่โค้ดค่อนข้างสั้น\n",
        "  - ถ้าเขียนเกิน 20 บรรทัด ให้นึกสงสัยไว้ก่อนว่าเราเขียนไปผิดทาง\n",
        "- ถ้ามีข้อสงสัย ขอแนะนำให้ซักถาม การขอความช่วยเหลือหลังหมดเวลาส่งแล้วมักจะสายเกินไป"
      ],
      "metadata": {
        "id": "9zLDkdOhF9DX"
      }
    },
    {
      "cell_type": "markdown",
      "source": [
        "ด้วยเทคโนโลยีที่พัฒนาไป ปัจจุบันเราสามารถถอดรหัสพันธุกรรมเป็นข้อมูลดิจิตอลที่สามารถประมวลผลได้โดยคอมพิวเตอร์\n",
        "\n",
        "องค์ประกอบพื้นฐานของรหัสพันธุกรรมประกอบด้วยกรดนิวคลีอิก 4 ชนิด\n",
        "- <font color=red>A</font> (Adenine)\n",
        "- <font color=red>C</font> (Cytosine)\n",
        "- <font color=red>G</font> (Guanine)\n",
        "- <font color=red>T</font> (Thymine)\n",
        "\n",
        "ในมนุษย์รหัสพันธุกรรมจะยาวมากๆ แต่ในการบ้านนี้เราจะมาเขียนฟังก์ชันเพื่อตรวจสอบความถูกต้องของข้อมูลพันธุกรรมที่อ่านขึ้นมาได้และฟังก์ชันที่ในการวิเคราะห์ผล\n",
        "\n",
        "(เพื่อไม่ให้สับสนจนเกินไป ในฟังก์ชันจะไม่ได้พูดถึงรายละเอียดว่าฟังก์ชันที่เขียนมันใช้ตรวจสอบความถูกต้องของข้อมูลได้อย่างไร หรือวิเคราะห์ผลได้ยังไง หากสนใจสามารถอ่านได้ที่  [ส่วนแนบท้าย](#scrollTo=sD01EVL73yv0&line=1) ในส่วนท้ายสุดของการบ้าน)"
      ],
      "metadata": {
        "id": "3haRoHBq0vAl"
      }
    },
    {
      "cell_type": "markdown",
      "source": [
        "จงเขียนฟังก์ชัน\n",
        "- get_acgt_count\n",
        "- get_ag_ct_ratio\n",
        "- get_gc_percentagae\n",
        "- get_repeat_count\n",
        "\n",
        "ตามรายละเอียดที่เขียนใน comment ของ [code cell ข้างล่างนี้](#scrollTo=32TQlQREdOVp&line=1)\n",
        "\n",
        "โดยนิสิตสามารถลบ doc_str (คอมเม้นที่ตามหลังฟังก์ชันที่ปิดหัวท้ายด้วย \"\"\") ที่โจทย์ระบุไว้ในแต่ละฟังก์ขันได้ แต่ถ้าไม่อยากลบ ก็ให้เก็บ doc_str ไว้ที่เดิมหลังบรรทัด def และถ้าจะเพิ่ม code ใหม่ในฟังก์ชัน ให้เยื้องให้อยู่ในแนวเดียวกับ doc_str\n",
        "\n",
        "\n"
      ],
      "metadata": {
        "id": "VN2Tope3YGUX"
      }
    },
    {
      "cell_type": "code",
      "source": [
        "# HW2_Genetics_Analysis\n",
        "\n",
        "# A function to count how many A,C,G,T in a string\n",
        "# Return a list with number of A,C,G,T respectively\n",
        "# Example: AAGAA --> [4, 0, 1, 0]\n",
        "def get_acgt_count(data):\n",
        "    # Set initial of count value\n",
        "    countA, countC, countG, countT = 0,0,0,0\n",
        "    # Counting how many A,C,G,T in the string\n",
        "    for i in range(0,len(data)):\n",
        "        if(data[i] == 'A'):\n",
        "            countA = countA + 1\n",
        "        elif(data[i] == 'C'):\n",
        "            countC = countC + 1\n",
        "        elif(data[i] == 'G'):\n",
        "            countG = countG + 1\n",
        "        elif(data[i] == 'T'):\n",
        "            countT = countT + 1\n",
        "    # Return as a list\n",
        "    return [countA, countC, countG, countT]\n",
        "\n",
        "# Find number of A+G divided by number of C+T and return as a float\n",
        "# If C+T = 0 return -1.0\n",
        "def get_ag_ct_ratio(data):\n",
        "    # Get a count value using get_acgt_count() fuction\n",
        "    countA, countC, countG, countT = get_acgt_count(data)\n",
        "    # Calculate and return the ratio\n",
        "    # If C+T = 0 then return -1.0\n",
        "    if(countC + countT == 0):\n",
        "        return -1.0\n",
        "    else:\n",
        "        ratio = float((countA + countG) / (countC + countT))\n",
        "        return ratio\n",
        "\n",
        "# Find number of G+C divided by length of the string and return as a float\n",
        "def get_gc_percentage(data):\n",
        "    # Get a count value using get_acgt_count() fuction\n",
        "    countA, countC, countG, countT = get_acgt_count(data)\n",
        "    # Calculate and return the percentage\n",
        "    percentage = float((countG + countC)/(countA + countC + countG + countT))\n",
        "    return percentage\n",
        "\n",
        "# Find and return the number of pattern\n",
        "# The repetition occurs in 1 place\n",
        "# The repetition must occurs more than once, otherwise return 0\n",
        "# Example: data = \"TGACACACGG\"; pattern = \"AC\"\n",
        "# data = \"TG[AC][AC][AC]GG\", there're 3 repetition of 'AC' in the data\n",
        "# return 3\n",
        "def get_repeat_count(data, pattern):\n",
        "    # Create a boolean to check if the repetition occurs\n",
        "    IsRepeat = False\n",
        "    # Loop the process by [length of the string divided by 2] - 1 times\n",
        "    # Example: data = TGACACACGG; pattern = \"AC\"\n",
        "    # The length of the string = 10 so the loop process 4 times\n",
        "    # Loop 1: Start at checking \"ACACACACAC\" is in \"TGACACACGG\"\n",
        "    # Loop 2: Start at checking \"ACACACAC\" is in \"TGACACACGG\"\n",
        "    # Loop 3: Start at checking \"ACACAC\" is in \"TGACACACGG\"\n",
        "    # Stops at Loop 3 and return 3\n",
        "    repetition = int(len(data)//2)\n",
        "    while(repetition != 1):\n",
        "        if(pattern*repetition in data):\n",
        "            IsRepeat = True\n",
        "            break\n",
        "        else:\n",
        "            repetition = repetition - 1\n",
        "    # If IsRepeat is true then return repetition\n",
        "    # If IsRepeat is flase then return 0\n",
        "    if(IsRepeat == True):\n",
        "        return repetition\n",
        "    elif(IsRepeat == False):\n",
        "        return 0"
      ],
      "metadata": {
        "id": "32TQlQREdOVp"
      },
      "execution_count": 5,
      "outputs": []
    },
    {
      "cell_type": "markdown",
      "source": [
        "## **กรณีทดสอบ**"
      ],
      "metadata": {
        "id": "IPKAuoZCZJip"
      }
    },
    {
      "cell_type": "markdown",
      "source": [
        "ใน cell ข้างล่างนี้จะเป็นกรณีที่ใช้ทดสอบการบ้าน ซึ่งจะมี 4 ฟังก์ชันทดสอบ โดยแต่ละอันจะทดสอบหนึ่งฟังก์ชัน นิสิตสามารถเลือกที่จะรันหรือไม่รันฟังก์ชันทดสอบได้ด้วยการ comment หรือ uncomment เฉพาะบางฟังก์ชัน\n",
        "\n",
        "นิสิตจะสามารถหาฟังก์ชันทดสอบได้ที่ท้ายสุดของ cell ข้างล่างนี้ ซึ่งจะมีฟังก์ชันทดสอบดังนี้\n",
        "- test_get_acgt_count()\n",
        "- test_get_ag_ct_ratio()\n",
        "- test_get_gc_percentage()\n",
        "- test_get_repeat_count()\n",
        "\n",
        "ให้รัน code cell ที่เราเขียนทุกครั้งก่อนที่จะรันกรณีทดสอบข้างล่าง ถ้าผลออกมาเป็น <font color=\"green\">working well so far</font> แปลว่ายังไม่พบปัญหานะครับ\n",
        "\n",
        "ปล. <font color=\"teal\">การรันกรณีทดสอบผ่านหมดไม่จำเป็นว่าจะได้คะแนนเต็ม (แค่ยังไม่เจอกรณีที่ผิด ซึ่งก็เป็นเรื่องที่ดี) เพราะในการตรวจจะใช้กรณีทดสอบที่แตกต่างกันกับที่ให้</font>\n",
        "\n",
        "<font color=red>ระวัง: อย่าเขียนโค้ดใน cell ข้างล่างนี้ เพราะจะไม่ได้รับการตรวจ การตรวจงานจะตรวจเฉพาะ [code cell ข้างบนนี้](#scrollTo=32TQlQREdOVp&line=1) เท่านั้น</font>"
      ],
      "metadata": {
        "id": "zmv9MY2fALnA"
      }
    },
    {
      "cell_type": "code",
      "source": [
        "import copy\n",
        "def test_f(case_name, f_name, expected, f_kwargs, allowed_unsorted_result=False):\n",
        "    def show_warning(case_name, str1, str2, expected, actual):\n",
        "        print(\"WARNING!! Something went wrong at\", case_name)\n",
        "        warning_txt = \" \".join([str(e) for e in [str1, str2, expected, \"instead of\", actual]])\n",
        "        if len(warning_txt) < 100:\n",
        "            print(warning_txt)\n",
        "        else:\n",
        "            print(str1)\n",
        "            print(str2)\n",
        "            print(expected)\n",
        "            print(\"instead of\")\n",
        "            print(actual)\n",
        "\n",
        "    f = eval(f_name)\n",
        "    mut_val_b4_test = {}\n",
        "    for key, val in f_kwargs.items():\n",
        "        if type(val) is list:\n",
        "            mut_val_b4_test[key] = copy.deepcopy(val)\n",
        "    call_txt = f_name + \"(\" + str(list(f_kwargs.values()))[1:-1] + \")\"\n",
        "    result = f(**f_kwargs)\n",
        "    if allowed_unsorted_result:\n",
        "        if type(result) is list:\n",
        "            result.sort()\n",
        "            expected.sort()\n",
        "    for key in mut_val_b4_test:\n",
        "        if mut_val_b4_test[key] != f_kwargs[key]:\n",
        "            show_warning(case_name,\n",
        "                         \"After calling \" + call_txt + \",\",\n",
        "                         \"argument \" + key + \" must have its value as before:\",\n",
        "                         mut_val_b4_test[key],\n",
        "                         f_kwargs[key])\n",
        "            return 1\n",
        "    if type(expected) is not type(result):\n",
        "        show_warning(case_name, call_txt, \"should return variable type\", type(expected), type(result))\n",
        "        return 1\n",
        "    if result != expected:\n",
        "        show_warning(case_name, call_txt, \"should return\", expected, result)\n",
        "        return 1\n",
        "    return 0\n",
        "\n",
        "def run_test(f_name, test_cases):\n",
        "    print(\"------------------------------------------------------------\")\n",
        "    err_code = 0\n",
        "    for idx, test_kwargs in enumerate(test_cases):\n",
        "        case_name = \"test \" + f_name + \" #\" + str(idx+1)\n",
        "        err_code |= test_f(case_name, f_name, **test_kwargs)\n",
        "    if not err_code:\n",
        "        print(\"Your function \" + f_name + \" is working well so far\")\n",
        "\n",
        "def test_get_acgt_count():\n",
        "    test_cases = []\n",
        "    test_cases.append({\"f_kwargs\": {\"data\": \"TCCGATT\"},\n",
        "                       \"expected\": [1, 2, 1, 3]})\n",
        "    test_cases.append({\"f_kwargs\": {\"data\": \"AAGAA\"},\n",
        "                       \"expected\": [4, 0, 1, 0]})\n",
        "    run_test(\"get_acgt_count\", test_cases)\n",
        "\n",
        "def test_get_ag_ct_ratio():\n",
        "    test_cases = []\n",
        "    test_cases.append({\"f_kwargs\": {\"data\": \"TCCGATT\"},\n",
        "                       \"expected\": 0.4})\n",
        "    test_cases.append({\"f_kwargs\": {\"data\": \"AAGAA\"},\n",
        "                       \"expected\": -1.0})\n",
        "    run_test(\"get_ag_ct_ratio\", test_cases)\n",
        "\n",
        "def test_get_gc_percentage():\n",
        "    test_cases = []\n",
        "    test_cases.append({\"f_kwargs\": {\"data\": \"TCCGATT\"},\n",
        "                       \"expected\": 3/7})\n",
        "    test_cases.append({\"f_kwargs\": {\"data\": \"AAGAA\"},\n",
        "                       \"expected\": 1/5})\n",
        "    run_test(\"get_gc_percentage\", test_cases)\n",
        "\n",
        "def test_get_repeat_count():\n",
        "    test_cases = []\n",
        "    test_cases.append({\"f_kwargs\": {\"data\": \"TGACACACGG\", \"pattern\": \"AC\"},\n",
        "                       \"expected\": 3})\n",
        "    test_cases.append({\"f_kwargs\": {\"data\": \"ACAC\", \"pattern\": \"AC\"},\n",
        "                       \"expected\": 2})\n",
        "    test_cases.append({\"f_kwargs\": {\"data\": \"CACACACA\", \"pattern\": \"AC\"},\n",
        "                       \"expected\": 3})\n",
        "    test_cases.append({\"f_kwargs\": {\"data\": \"GACTACCAC\", \"pattern\": \"AC\"},\n",
        "                       \"expected\": 0})\n",
        "    run_test(\"get_repeat_count\", test_cases)\n",
        "\n",
        "test_get_acgt_count()\n",
        "test_get_ag_ct_ratio()\n",
        "test_get_gc_percentage()\n",
        "test_get_repeat_count()"
      ],
      "metadata": {
        "id": "RDJW5k9LZNo5",
        "colab": {
          "base_uri": "https://localhost:8080/"
        },
        "outputId": "6f24cb6e-dc7e-416f-9d8b-edaf3b867153"
      },
      "execution_count": 6,
      "outputs": [
        {
          "output_type": "stream",
          "name": "stdout",
          "text": [
            "------------------------------------------------------------\n",
            "Your function get_acgt_count is working well so far\n",
            "------------------------------------------------------------\n",
            "Your function get_ag_ct_ratio is working well so far\n",
            "------------------------------------------------------------\n",
            "Your function get_gc_percentage is working well so far\n",
            "------------------------------------------------------------\n",
            "Your function get_repeat_count is working well so far\n"
          ]
        }
      ]
    },
    {
      "cell_type": "markdown",
      "source": [
        "## ส่วนแนบท้าย\n",
        "(ไม่ออกสอบ อ่านเอาสนุกๆ หรือไม่อ่านส่วนนี้ก็ได้)"
      ],
      "metadata": {
        "id": "sD01EVL73yv0"
      }
    },
    {
      "cell_type": "markdown",
      "source": [
        "ในกระบวนการอ่านข้อมูลทางพันธุกรรม (ซึ่งในทางเทคนิคจะเรียกว่า [DNA Sequence](https://en.wikipedia.org/wiki/DNA_sequencing)) จะประกอบด้วยขั้นตอนย่อยๆ หลายขั้นตอน ตั้งแต่\n",
        "- การเก็บเซลล์จากสิ่งมีชีวิตที่เราสนใจ\n",
        "- การแยก DNA ออกจากส่วนอื่นๆของเซลล์\n",
        "- การเตรียม DNA เข้าเครื่องอ่าน ซึ่งขั้นตอนนี้จะผ่านปฎิกิริยาเคมีหลายขั้นตอน\n",
        "- นำเอา DNA ที่เตรียมไว้เข้าเครื่องอ่านซึ่งมีหลายเทคโนโลยี\n",
        "  - [แปะสีไปที่ Nucleic Acid แล้วใช้เครื่องอ่าน อ่านข้อมูลขึ้นมาทีละตัว](https://en.wikipedia.org/wiki/Illumina_dye_sequencing)\n",
        "  - [ใช้สนามไฟฟ้า](https://en.wikipedia.org/wiki/Nanopore_sequencing)\n",
        "\n",
        "เนื่องจากมีหลายขั้นตอน ทำให้ข้อมูลที่อ่านขึ้นมาอาจจะมีโอกาสผิดพลาดได้ง่าย โดยการตรวจสอบอัตราส่วนของ A+G ต่อ C+T ก็เป็นวิธีการง่ายๆ อันนึงที่ใช้ในการตรวจสอบ โดย [Chargaff's rules](https://en.wikipedia.org/wiki/Chargaff%27s_rules) อัตราส่วนของ A+G : C+T จะประมาณ 1:1\n",
        "\n",
        "---\n",
        "ในส่วนของเปอร์เซ็นต์ของ CG นั้น (ทางเทคนิคเรียกว่า [GC content](https://en.wikipedia.org/wiki/GC-content))สามารถนำมาใช้ประโยชน์ได้หลายอย่าง โดยหนึ่งในนั้นจะใช้เป็นตัวกำหนดอุณหภูมิของปฏิกิริยาเคมีที่เกี่ยวข้องกับ DNA Sequence ส่วนนั้น\n",
        "\n",
        "---\n",
        "ความยาวของ repeat (ทางเทคนิคเรียกว่า [Microsatellite](https://en.wikipedia.org/wiki/Microsatellite) ซึ่งความยาวของ pattern ก็เป็นไปได้ตั้งแต่ 1-6 อักขระ (ทางเทคนิคเรียกว่า [เบส](https://en.wikipedia.org/wiki/Nucleobase)) และสามารถซ้ำกันได้ถึง 50 ครั้ง โดยความยาวของ repeat ของบาง pattern จะสามารถใช้เป็นตัวระบุลักษณะทางพันธุกรรมบางอย่างได้"
      ],
      "metadata": {
        "id": "OhgPw_CFEEAy"
      }
    }
  ]
}